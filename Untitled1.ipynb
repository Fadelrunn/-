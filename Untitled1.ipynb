{
  "nbformat": 4,
  "nbformat_minor": 0,
  "metadata": {
    "colab": {
      "name": "Untitled1.ipynb",
      "provenance": [],
      "collapsed_sections": []
    },
    "kernelspec": {
      "name": "python3",
      "display_name": "Python 3"
    }
  },
  "cells": [
    {
      "cell_type": "markdown",
      "metadata": {
        "id": "gkMbBURhpVJ1"
      },
      "source": [
        "#Солдатов Руслан Максимович, КИ19-24Б"
      ]
    },
    {
      "cell_type": "code",
      "metadata": {
        "colab": {
          "base_uri": "https://localhost:8080/"
        },
        "id": "uiLMznEfpd6-",
        "outputId": "34b17d29-4c43-4d6e-9fbd-3aaa8d829b14"
      },
      "source": [
        "print(\"Привет мир!\")"
      ],
      "execution_count": 1,
      "outputs": [
        {
          "output_type": "stream",
          "text": [
            "Привет мир!\n"
          ],
          "name": "stdout"
        }
      ]
    }
  ]
}